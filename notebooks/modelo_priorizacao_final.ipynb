{
 "cells": [
  {
   "cell_type": "markdown",
   "metadata": {},
   "source": [
    "# Prioritização de Candidatos com Machine Learning\n\n",
    "Este projeto foi desenvolvido para auxiliar o time de recrutamento a identificar candidatos com maior probabilidade de contratação, utilizando dados históricos de processos seletivos.\n\n",
    "- **Objetivo**: Priorizar automaticamente os candidatos com maior potencial de contratação.\n",
    "- **Abordagem**: Modelos supervisionados com foco em recall da classe contratada (target = 1).\n",
    "- **Modelo final**: XGBoost com balanceamento de classes e variável `cliente` incluída.\n"
   ]
  },
  {
   "cell_type": "markdown",
   "metadata": {},
   "source": [
    "## Comparação entre modelos\n\n",
    "| Modelo                          | Accuracy | Precision (Classe 1) | Recall (Classe 1) | F1-score (Classe 1) |\n",
    "|--------------------------------|----------|-----------------------|-------------------|---------------------|\n",
    "| XGBoost com `cliente`          | 0.75     | 0.50                  | 0.54              | 0.52                |\n",
    "| RandomForest balanceado        | 0.76     | 0.50                  | 0.54              | 0.52                |\n",
    "| XGBoost sem `cliente`          | 0.56     | 0.29                  | 0.56              | 0.38                |\n",
    "| RandomForest original          | 0.78     | 0.58                  | 0.39              | 0.47                |\n\n",
    "➡️ O modelo final escolhido foi o **XGBoost com `cliente`**, por apresentar o melhor equilíbrio entre recall da classe positiva e robustez na base atual."
   ]
  },
  {
   "cell_type": "code",
   "execution_count": 7,
   "metadata": {
    "ExecuteTime": {
     "end_time": "2025-03-29T22:21:29.644117Z",
     "start_time": "2025-03-29T22:21:29.622520Z"
    }
   },
   "outputs": [],
   "source": [
    "import pandas as pd\n",
    "import joblib\n",
    "\n",
    "X_test = pd.read_csv(\"../data/processed/X_test.csv\")\n",
    "\n",
    "# pipeline_xgb deve estar treinado previamente\n",
    "pipeline_xgb = joblib.load(\"../models/modelo_priorizacao_xgb.pkl\")"
   ]
  },
  {
   "cell_type": "code",
   "execution_count": 8,
   "metadata": {
    "ExecuteTime": {
     "end_time": "2025-03-29T22:21:29.656643Z",
     "start_time": "2025-03-29T22:21:29.652677Z"
    }
   },
   "outputs": [],
   "source": [
    "def priorizar_candidatos(df_input, modelo, top_n=10):\n",
    "    \"\"\"\n",
    "    Recebe um DataFrame de candidatos e retorna os top_n com maior probabilidade de contratação.\n",
    "    \"\"\"\n",
    "    df_copy = df_input.copy()\n",
    "    df_copy = df_copy.drop(columns=[\"target\"], errors=\"ignore\")\n",
    "\n",
    "    # Previsão\n",
    "    probs = modelo.predict_proba(df_copy)[:, 1]\n",
    "    df_copy[\"prob_contratacao\"] = probs\n",
    "\n",
    "    # Ordenação\n",
    "    df_ranked = df_copy.sort_values(by=\"prob_contratacao\", ascending=False)\n",
    "    return df_ranked.head(top_n)"
   ]
  },
  {
   "cell_type": "code",
   "execution_count": 11,
   "metadata": {
    "ExecuteTime": {
     "end_time": "2025-03-29T22:22:59.326878Z",
     "start_time": "2025-03-29T22:22:59.313425Z"
    }
   },
   "outputs": [
    {
     "data": {
      "text/html": [
       "<div>\n",
       "<style scoped>\n",
       "    .dataframe tbody tr th:only-of-type {\n",
       "        vertical-align: middle;\n",
       "    }\n",
       "\n",
       "    .dataframe tbody tr th {\n",
       "        vertical-align: top;\n",
       "    }\n",
       "\n",
       "    .dataframe thead th {\n",
       "        text-align: right;\n",
       "    }\n",
       "</style>\n",
       "<table border=\"1\" class=\"dataframe\">\n",
       "  <thead>\n",
       "    <tr style=\"text-align: right;\">\n",
       "      <th></th>\n",
       "      <th>nivel_academico</th>\n",
       "      <th>ingles</th>\n",
       "      <th>espanhol</th>\n",
       "      <th>area_atuacao</th>\n",
       "      <th>nivel_profissional</th>\n",
       "      <th>sap</th>\n",
       "      <th>cliente</th>\n",
       "      <th>prob_contratacao</th>\n",
       "    </tr>\n",
       "  </thead>\n",
       "  <tbody>\n",
       "    <tr>\n",
       "      <th>732</th>\n",
       "      <td>Ensino Superior Cursando</td>\n",
       "      <td>Intermediário</td>\n",
       "      <td>Básico</td>\n",
       "      <td>Ti - Sistemas E Ferramentas</td>\n",
       "      <td>Sênior</td>\n",
       "      <td>Não</td>\n",
       "      <td>Gonzalez And Sons</td>\n",
       "      <td>0.997305</td>\n",
       "    </tr>\n",
       "    <tr>\n",
       "      <th>554</th>\n",
       "      <td>Ensino Médio Completo</td>\n",
       "      <td>Avançado</td>\n",
       "      <td>Básico</td>\n",
       "      <td>Ti - Sap</td>\n",
       "      <td>Sênior</td>\n",
       "      <td>Não</td>\n",
       "      <td>Jenkins-Walker</td>\n",
       "      <td>0.987796</td>\n",
       "    </tr>\n",
       "    <tr>\n",
       "      <th>1189</th>\n",
       "      <td>Ensino Superior Completo</td>\n",
       "      <td>Básico</td>\n",
       "      <td>Básico</td>\n",
       "      <td>Ti - Sap</td>\n",
       "      <td>Pleno</td>\n",
       "      <td>Não</td>\n",
       "      <td>Miller-Curry</td>\n",
       "      <td>0.980813</td>\n",
       "    </tr>\n",
       "    <tr>\n",
       "      <th>1254</th>\n",
       "      <td>Ensino Superior Completo</td>\n",
       "      <td>Básico</td>\n",
       "      <td>Intermediário</td>\n",
       "      <td>Ti - Sap</td>\n",
       "      <td>Pleno</td>\n",
       "      <td>Não</td>\n",
       "      <td>Miller-Curry</td>\n",
       "      <td>0.979685</td>\n",
       "    </tr>\n",
       "    <tr>\n",
       "      <th>1958</th>\n",
       "      <td>Ensino Superior Completo</td>\n",
       "      <td>Básico</td>\n",
       "      <td>Nenhum</td>\n",
       "      <td>Ti - Projetos</td>\n",
       "      <td>Sênior</td>\n",
       "      <td>Não</td>\n",
       "      <td>Gonzalez And Sons</td>\n",
       "      <td>0.969872</td>\n",
       "    </tr>\n",
       "  </tbody>\n",
       "</table>\n",
       "</div>"
      ],
      "text/plain": [
       "               nivel_academico         ingles       espanhol  \\\n",
       "732   Ensino Superior Cursando  Intermediário         Básico   \n",
       "554      Ensino Médio Completo       Avançado         Básico   \n",
       "1189  Ensino Superior Completo         Básico         Básico   \n",
       "1254  Ensino Superior Completo         Básico  Intermediário   \n",
       "1958  Ensino Superior Completo         Básico         Nenhum   \n",
       "\n",
       "                     area_atuacao nivel_profissional  sap            cliente  \\\n",
       "732   Ti - Sistemas E Ferramentas             Sênior  Não  Gonzalez And Sons   \n",
       "554                      Ti - Sap             Sênior  Não     Jenkins-Walker   \n",
       "1189                     Ti - Sap              Pleno  Não       Miller-Curry   \n",
       "1254                     Ti - Sap              Pleno  Não       Miller-Curry   \n",
       "1958                Ti - Projetos             Sênior  Não  Gonzalez And Sons   \n",
       "\n",
       "      prob_contratacao  \n",
       "732           0.997305  \n",
       "554           0.987796  \n",
       "1189          0.980813  \n",
       "1254          0.979685  \n",
       "1958          0.969872  "
      ]
     },
     "execution_count": 11,
     "metadata": {},
     "output_type": "execute_result"
    }
   ],
   "source": [
    "# Simulação de uso\n",
    "top_priorizados = priorizar_candidatos(X_test.copy(), pipeline_xgb, top_n=5)\n",
    "top_priorizados"
   ]
  }
 ],
 "metadata": {
  "kernelspec": {
   "display_name": "Python 3",
   "language": "python",
   "name": "python3"
  },
  "language_info": {
   "name": "python",
   "version": "3.9"
  }
 },
 "nbformat": 4,
 "nbformat_minor": 2
}
