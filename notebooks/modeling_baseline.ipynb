{
 "cells": [
  {
   "cell_type": "code",
   "execution_count": 1,
   "id": "initial_id",
   "metadata": {
    "ExecuteTime": {
     "end_time": "2025-03-29T22:59:09.809478Z",
     "start_time": "2025-03-29T22:59:09.595653Z"
    },
    "collapsed": true
   },
   "outputs": [],
   "source": [
    "import pandas as pd\n",
    "import numpy as np\n",
    "import matplotlib.pyplot as plt\n",
    "import seaborn as sns\n",
    "\n",
    "# Modelagem\n",
    "from sklearn.model_selection import train_test_split\n",
    "from sklearn.preprocessing import OneHotEncoder\n",
    "from sklearn.compose import ColumnTransformer\n",
    "from sklearn.pipeline import Pipeline\n",
    "from sklearn.ensemble import RandomForestClassifier\n",
    "from sklearn.metrics import classification_report, confusion_matrix"
   ]
  },
  {
   "cell_type": "code",
   "execution_count": 2,
   "id": "fc7a0c963367099b",
   "metadata": {
    "ExecuteTime": {
     "end_time": "2025-03-29T22:59:10.260149Z",
     "start_time": "2025-03-29T22:59:09.812804Z"
    }
   },
   "outputs": [],
   "source": [
    "df = pd.read_csv(\"../data/processed/merged_data.csv\")"
   ]
  },
  {
   "cell_type": "code",
   "execution_count": 3,
   "id": "a09cc789442f8e38",
   "metadata": {
    "ExecuteTime": {
     "end_time": "2025-03-29T22:59:10.338223Z",
     "start_time": "2025-03-29T22:59:10.330163Z"
    }
   },
   "outputs": [
    {
     "name": "stdout",
     "output_type": "stream",
     "text": [
      "Shape do DataFrame: (12202, 19)\n"
     ]
    },
    {
     "data": {
      "text/html": [
       "<div>\n",
       "<style scoped>\n",
       "    .dataframe tbody tr th:only-of-type {\n",
       "        vertical-align: middle;\n",
       "    }\n",
       "\n",
       "    .dataframe tbody tr th {\n",
       "        vertical-align: top;\n",
       "    }\n",
       "\n",
       "    .dataframe thead th {\n",
       "        text-align: right;\n",
       "    }\n",
       "</style>\n",
       "<table border=\"1\" class=\"dataframe\">\n",
       "  <thead>\n",
       "    <tr style=\"text-align: right;\">\n",
       "      <th></th>\n",
       "      <th>vaga_id</th>\n",
       "      <th>candidato_id</th>\n",
       "      <th>situacao</th>\n",
       "      <th>comentario</th>\n",
       "      <th>nome</th>\n",
       "      <th>titulo_vaga</th>\n",
       "      <th>modalidade_vaga</th>\n",
       "      <th>cliente</th>\n",
       "      <th>sap</th>\n",
       "      <th>nivel_profissional</th>\n",
       "      <th>idioma</th>\n",
       "      <th>competencias_tecnicas</th>\n",
       "      <th>nivel_academico</th>\n",
       "      <th>ingles</th>\n",
       "      <th>espanhol</th>\n",
       "      <th>area_atuacao</th>\n",
       "      <th>conhecimentos</th>\n",
       "      <th>cv</th>\n",
       "      <th>target</th>\n",
       "    </tr>\n",
       "  </thead>\n",
       "  <tbody>\n",
       "    <tr>\n",
       "      <th>0</th>\n",
       "      <td>4531</td>\n",
       "      <td>25364</td>\n",
       "      <td>Contratado pela Decision</td>\n",
       "      <td>Data de Inicio: 12/04/2021</td>\n",
       "      <td>Sra. Yasmin Fernandes</td>\n",
       "      <td>2021-2607395-PeopleSoft Application Engine-Dom...</td>\n",
       "      <td>NaN</td>\n",
       "      <td>Gonzalez and Sons</td>\n",
       "      <td>Não</td>\n",
       "      <td>Sênior</td>\n",
       "      <td>Nenhum</td>\n",
       "      <td>O recurso Peoplesoft tem como responsabilidade...</td>\n",
       "      <td>Ensino Superior Completo</td>\n",
       "      <td>Avançado</td>\n",
       "      <td>Intermediário</td>\n",
       "      <td>TI - Projetos</td>\n",
       "      <td>- PeopleSoft (PeopleTools 8.49, 8.53, 8.55, 8....</td>\n",
       "      <td>\\n\\nárea de atuação: lider de consultoria / ge...</td>\n",
       "      <td>1</td>\n",
       "    </tr>\n",
       "    <tr>\n",
       "      <th>1</th>\n",
       "      <td>4533</td>\n",
       "      <td>26338</td>\n",
       "      <td>Contratado pela Decision</td>\n",
       "      <td>NaN</td>\n",
       "      <td>Arthur Almeida</td>\n",
       "      <td>2021-2605708-Microfocus Application Life Cycle...</td>\n",
       "      <td>NaN</td>\n",
       "      <td>Barnes-Woods</td>\n",
       "      <td>Não</td>\n",
       "      <td>Sênior</td>\n",
       "      <td>Técnico</td>\n",
       "      <td>Arquiteto\\n\\nFoco na área e automação.\\n\\nRequ...</td>\n",
       "      <td>NaN</td>\n",
       "      <td>NaN</td>\n",
       "      <td>NaN</td>\n",
       "      <td>NaN</td>\n",
       "      <td>NaN</td>\n",
       "      <td>solteiro, brasileiro, 21/06/1987\\nhabilitação ...</td>\n",
       "      <td>1</td>\n",
       "    </tr>\n",
       "    <tr>\n",
       "      <th>2</th>\n",
       "      <td>4533</td>\n",
       "      <td>24645</td>\n",
       "      <td>Desistiu</td>\n",
       "      <td>Profissional desistiu da vaga. Motivo : Na ver...</td>\n",
       "      <td>Dante Sampaio</td>\n",
       "      <td>2021-2605708-Microfocus Application Life Cycle...</td>\n",
       "      <td>NaN</td>\n",
       "      <td>Barnes-Woods</td>\n",
       "      <td>Não</td>\n",
       "      <td>Sênior</td>\n",
       "      <td>Técnico</td>\n",
       "      <td>Arquiteto\\n\\nFoco na área e automação.\\n\\nRequ...</td>\n",
       "      <td>NaN</td>\n",
       "      <td>NaN</td>\n",
       "      <td>NaN</td>\n",
       "      <td>NaN</td>\n",
       "      <td>NaN</td>\n",
       "      <td>analista de teste/qa\\n\\nprofissional hands on ...</td>\n",
       "      <td>0</td>\n",
       "    </tr>\n",
       "    <tr>\n",
       "      <th>3</th>\n",
       "      <td>4534</td>\n",
       "      <td>26205</td>\n",
       "      <td>Desistiu</td>\n",
       "      <td>profissional não atende ou responde ligações, ...</td>\n",
       "      <td>Isabella da Cruz</td>\n",
       "      <td>2021-2605711-Microfocus QTP - UFT Automation T...</td>\n",
       "      <td>NaN</td>\n",
       "      <td>Barnes-Woods</td>\n",
       "      <td>Não</td>\n",
       "      <td>Sênior</td>\n",
       "      <td>Técnico</td>\n",
       "      <td>Automação de teste (conhecimento do código)\\n\\...</td>\n",
       "      <td>NaN</td>\n",
       "      <td>NaN</td>\n",
       "      <td>NaN</td>\n",
       "      <td>NaN</td>\n",
       "      <td>NaN</td>\n",
       "      <td>idade: 37 anos\\n172 apto.2703, vila maria josé...</td>\n",
       "      <td>0</td>\n",
       "    </tr>\n",
       "    <tr>\n",
       "      <th>4</th>\n",
       "      <td>4534</td>\n",
       "      <td>26003</td>\n",
       "      <td>Não Aprovado pelo Cliente</td>\n",
       "      <td>\"Conversando com a candidata, foi exposto que ...</td>\n",
       "      <td>Maria Helena Peixoto</td>\n",
       "      <td>2021-2605711-Microfocus QTP - UFT Automation T...</td>\n",
       "      <td>NaN</td>\n",
       "      <td>Barnes-Woods</td>\n",
       "      <td>Não</td>\n",
       "      <td>Sênior</td>\n",
       "      <td>Técnico</td>\n",
       "      <td>Automação de teste (conhecimento do código)\\n\\...</td>\n",
       "      <td>NaN</td>\n",
       "      <td>NaN</td>\n",
       "      <td>NaN</td>\n",
       "      <td>NaN</td>\n",
       "      <td>NaN</td>\n",
       "      <td>solteira – 40 anos – brasileira\\nitaquaquecetu...</td>\n",
       "      <td>0</td>\n",
       "    </tr>\n",
       "  </tbody>\n",
       "</table>\n",
       "</div>"
      ],
      "text/plain": [
       "   vaga_id  candidato_id                   situacao  \\\n",
       "0     4531         25364   Contratado pela Decision   \n",
       "1     4533         26338   Contratado pela Decision   \n",
       "2     4533         24645                   Desistiu   \n",
       "3     4534         26205                   Desistiu   \n",
       "4     4534         26003  Não Aprovado pelo Cliente   \n",
       "\n",
       "                                          comentario                   nome  \\\n",
       "0                         Data de Inicio: 12/04/2021  Sra. Yasmin Fernandes   \n",
       "1                                                NaN         Arthur Almeida   \n",
       "2  Profissional desistiu da vaga. Motivo : Na ver...          Dante Sampaio   \n",
       "3  profissional não atende ou responde ligações, ...       Isabella da Cruz   \n",
       "4  \"Conversando com a candidata, foi exposto que ...   Maria Helena Peixoto   \n",
       "\n",
       "                                         titulo_vaga modalidade_vaga  \\\n",
       "0  2021-2607395-PeopleSoft Application Engine-Dom...             NaN   \n",
       "1  2021-2605708-Microfocus Application Life Cycle...             NaN   \n",
       "2  2021-2605708-Microfocus Application Life Cycle...             NaN   \n",
       "3  2021-2605711-Microfocus QTP - UFT Automation T...             NaN   \n",
       "4  2021-2605711-Microfocus QTP - UFT Automation T...             NaN   \n",
       "\n",
       "             cliente  sap nivel_profissional   idioma  \\\n",
       "0  Gonzalez and Sons  Não             Sênior   Nenhum   \n",
       "1       Barnes-Woods  Não             Sênior  Técnico   \n",
       "2       Barnes-Woods  Não             Sênior  Técnico   \n",
       "3       Barnes-Woods  Não             Sênior  Técnico   \n",
       "4       Barnes-Woods  Não             Sênior  Técnico   \n",
       "\n",
       "                               competencias_tecnicas  \\\n",
       "0  O recurso Peoplesoft tem como responsabilidade...   \n",
       "1  Arquiteto\\n\\nFoco na área e automação.\\n\\nRequ...   \n",
       "2  Arquiteto\\n\\nFoco na área e automação.\\n\\nRequ...   \n",
       "3  Automação de teste (conhecimento do código)\\n\\...   \n",
       "4  Automação de teste (conhecimento do código)\\n\\...   \n",
       "\n",
       "            nivel_academico    ingles       espanhol   area_atuacao  \\\n",
       "0  Ensino Superior Completo  Avançado  Intermediário  TI - Projetos   \n",
       "1                       NaN       NaN            NaN            NaN   \n",
       "2                       NaN       NaN            NaN            NaN   \n",
       "3                       NaN       NaN            NaN            NaN   \n",
       "4                       NaN       NaN            NaN            NaN   \n",
       "\n",
       "                                       conhecimentos  \\\n",
       "0  - PeopleSoft (PeopleTools 8.49, 8.53, 8.55, 8....   \n",
       "1                                                NaN   \n",
       "2                                                NaN   \n",
       "3                                                NaN   \n",
       "4                                                NaN   \n",
       "\n",
       "                                                  cv  target  \n",
       "0  \\n\\nárea de atuação: lider de consultoria / ge...       1  \n",
       "1  solteiro, brasileiro, 21/06/1987\\nhabilitação ...       1  \n",
       "2  analista de teste/qa\\n\\nprofissional hands on ...       0  \n",
       "3  idade: 37 anos\\n172 apto.2703, vila maria josé...       0  \n",
       "4  solteira – 40 anos – brasileira\\nitaquaquecetu...       0  "
      ]
     },
     "execution_count": 3,
     "metadata": {},
     "output_type": "execute_result"
    }
   ],
   "source": [
    "print(\"Shape do DataFrame:\", df.shape)\n",
    "df.head()"
   ]
  },
  {
   "cell_type": "code",
   "execution_count": 4,
   "id": "d49916aa11a83322",
   "metadata": {
    "ExecuteTime": {
     "end_time": "2025-03-29T22:59:10.371140Z",
     "start_time": "2025-03-29T22:59:10.365839Z"
    }
   },
   "outputs": [],
   "source": [
    "# Cópia de trabalho\n",
    "df_model = df.copy()\n",
    "\n",
    "# Colunas utilizadas na modelagem\n",
    "cols_utilizadas = [\n",
    "    \"nivel_academico\",\n",
    "    \"ingles\",\n",
    "    \"espanhol\",\n",
    "    \"area_atuacao\",\n",
    "    \"nivel_profissional\",\n",
    "    \"sap\",\n",
    "    \"cliente\",\n",
    "    \"target\",\n",
    "]\n",
    "\n",
    "# Filtrar apenas essas colunas\n",
    "df_model = df_model[cols_utilizadas]"
   ]
  },
  {
   "cell_type": "code",
   "execution_count": 5,
   "id": "d8e6ca0fbd73a532",
   "metadata": {
    "ExecuteTime": {
     "end_time": "2025-03-29T22:59:10.421852Z",
     "start_time": "2025-03-29T22:59:10.396325Z"
    }
   },
   "outputs": [],
   "source": [
    "# Preencher nulos e padronizar valores categóricos\n",
    "for col in df_model.columns:\n",
    "    if df_model[col].dtype == \"object\":\n",
    "        df_model[col] = (\n",
    "            df_model[col].fillna(\"Desconhecido\").astype(str).str.strip().str.title()\n",
    "        )"
   ]
  },
  {
   "cell_type": "code",
   "execution_count": 6,
   "id": "fd3d63350c9f0654",
   "metadata": {
    "ExecuteTime": {
     "end_time": "2025-03-29T22:59:10.446867Z",
     "start_time": "2025-03-29T22:59:10.433844Z"
    }
   },
   "outputs": [],
   "source": [
    "def agrupar_raros(coluna, top_n=20):\n",
    "    top_valores = df_model[coluna].value_counts().nlargest(top_n).index\n",
    "    return df_model[coluna].apply(lambda x: x if x in top_valores else \"Outros\")\n",
    "\n",
    "\n",
    "# Aplicar em cliente e área de atuação\n",
    "df_model[\"cliente\"] = agrupar_raros(\"cliente\", top_n=20)\n",
    "df_model[\"area_atuacao\"] = agrupar_raros(\"area_atuacao\", top_n=20)"
   ]
  },
  {
   "cell_type": "code",
   "execution_count": 7,
   "id": "bdf852e5616af78a",
   "metadata": {
    "ExecuteTime": {
     "end_time": "2025-03-29T22:59:10.463362Z",
     "start_time": "2025-03-29T22:59:10.454204Z"
    }
   },
   "outputs": [
    {
     "name": "stdout",
     "output_type": "stream",
     "text": [
      "<class 'pandas.core.frame.DataFrame'>\n",
      "RangeIndex: 12202 entries, 0 to 12201\n",
      "Data columns (total 8 columns):\n",
      " #   Column              Non-Null Count  Dtype \n",
      "---  ------              --------------  ----- \n",
      " 0   nivel_academico     12202 non-null  object\n",
      " 1   ingles              12202 non-null  object\n",
      " 2   espanhol            12202 non-null  object\n",
      " 3   area_atuacao        12202 non-null  object\n",
      " 4   nivel_profissional  12202 non-null  object\n",
      " 5   sap                 12202 non-null  object\n",
      " 6   cliente             12202 non-null  object\n",
      " 7   target              12202 non-null  int64 \n",
      "dtypes: int64(1), object(7)\n",
      "memory usage: 762.8+ KB\n"
     ]
    },
    {
     "data": {
      "text/html": [
       "<div>\n",
       "<style scoped>\n",
       "    .dataframe tbody tr th:only-of-type {\n",
       "        vertical-align: middle;\n",
       "    }\n",
       "\n",
       "    .dataframe tbody tr th {\n",
       "        vertical-align: top;\n",
       "    }\n",
       "\n",
       "    .dataframe thead th {\n",
       "        text-align: right;\n",
       "    }\n",
       "</style>\n",
       "<table border=\"1\" class=\"dataframe\">\n",
       "  <thead>\n",
       "    <tr style=\"text-align: right;\">\n",
       "      <th></th>\n",
       "      <th>nivel_academico</th>\n",
       "      <th>ingles</th>\n",
       "      <th>espanhol</th>\n",
       "      <th>area_atuacao</th>\n",
       "      <th>nivel_profissional</th>\n",
       "      <th>sap</th>\n",
       "      <th>cliente</th>\n",
       "      <th>target</th>\n",
       "    </tr>\n",
       "  </thead>\n",
       "  <tbody>\n",
       "    <tr>\n",
       "      <th>0</th>\n",
       "      <td>Ensino Superior Completo</td>\n",
       "      <td>Avançado</td>\n",
       "      <td>Intermediário</td>\n",
       "      <td>Ti - Projetos</td>\n",
       "      <td>Sênior</td>\n",
       "      <td>Não</td>\n",
       "      <td>Gonzalez And Sons</td>\n",
       "      <td>1</td>\n",
       "    </tr>\n",
       "    <tr>\n",
       "      <th>1</th>\n",
       "      <td>Desconhecido</td>\n",
       "      <td>Desconhecido</td>\n",
       "      <td>Desconhecido</td>\n",
       "      <td>Desconhecido</td>\n",
       "      <td>Sênior</td>\n",
       "      <td>Não</td>\n",
       "      <td>Barnes-Woods</td>\n",
       "      <td>1</td>\n",
       "    </tr>\n",
       "    <tr>\n",
       "      <th>2</th>\n",
       "      <td>Desconhecido</td>\n",
       "      <td>Desconhecido</td>\n",
       "      <td>Desconhecido</td>\n",
       "      <td>Desconhecido</td>\n",
       "      <td>Sênior</td>\n",
       "      <td>Não</td>\n",
       "      <td>Barnes-Woods</td>\n",
       "      <td>0</td>\n",
       "    </tr>\n",
       "    <tr>\n",
       "      <th>3</th>\n",
       "      <td>Desconhecido</td>\n",
       "      <td>Desconhecido</td>\n",
       "      <td>Desconhecido</td>\n",
       "      <td>Desconhecido</td>\n",
       "      <td>Sênior</td>\n",
       "      <td>Não</td>\n",
       "      <td>Barnes-Woods</td>\n",
       "      <td>0</td>\n",
       "    </tr>\n",
       "    <tr>\n",
       "      <th>4</th>\n",
       "      <td>Desconhecido</td>\n",
       "      <td>Desconhecido</td>\n",
       "      <td>Desconhecido</td>\n",
       "      <td>Desconhecido</td>\n",
       "      <td>Sênior</td>\n",
       "      <td>Não</td>\n",
       "      <td>Barnes-Woods</td>\n",
       "      <td>0</td>\n",
       "    </tr>\n",
       "  </tbody>\n",
       "</table>\n",
       "</div>"
      ],
      "text/plain": [
       "            nivel_academico        ingles       espanhol   area_atuacao  \\\n",
       "0  Ensino Superior Completo      Avançado  Intermediário  Ti - Projetos   \n",
       "1              Desconhecido  Desconhecido   Desconhecido   Desconhecido   \n",
       "2              Desconhecido  Desconhecido   Desconhecido   Desconhecido   \n",
       "3              Desconhecido  Desconhecido   Desconhecido   Desconhecido   \n",
       "4              Desconhecido  Desconhecido   Desconhecido   Desconhecido   \n",
       "\n",
       "  nivel_profissional  sap            cliente  target  \n",
       "0             Sênior  Não  Gonzalez And Sons       1  \n",
       "1             Sênior  Não       Barnes-Woods       1  \n",
       "2             Sênior  Não       Barnes-Woods       0  \n",
       "3             Sênior  Não       Barnes-Woods       0  \n",
       "4             Sênior  Não       Barnes-Woods       0  "
      ]
     },
     "execution_count": 7,
     "metadata": {},
     "output_type": "execute_result"
    }
   ],
   "source": [
    "df_model.info()\n",
    "df_model.head()"
   ]
  },
  {
   "cell_type": "code",
   "execution_count": 8,
   "id": "62276b77282ccf38",
   "metadata": {
    "ExecuteTime": {
     "end_time": "2025-03-29T22:59:10.574365Z",
     "start_time": "2025-03-29T22:59:10.551620Z"
    }
   },
   "outputs": [],
   "source": [
    "df_model.to_csv(\"../data/processed/df_model.csv\", index=False)"
   ]
  },
  {
   "cell_type": "code",
   "execution_count": 9,
   "id": "5d75116ba83bfdf2",
   "metadata": {
    "ExecuteTime": {
     "end_time": "2025-03-29T22:59:10.603582Z",
     "start_time": "2025-03-29T22:59:10.595401Z"
    }
   },
   "outputs": [],
   "source": [
    "\n",
    "# Separar variáveis explicativas e alvo\n",
    "X = df_model.drop(columns=\"target\")\n",
    "y = df_model[\"target\"]\n",
    "\n",
    "# Divisão treino/teste com estratificação\n",
    "X_train, X_test, y_train, y_test = train_test_split(\n",
    "    X, y, test_size=0.2, stratify=y, random_state=42\n",
    ")"
   ]
  },
  {
   "cell_type": "code",
   "execution_count": 10,
   "id": "8c082083c18ac5bf",
   "metadata": {
    "ExecuteTime": {
     "end_time": "2025-03-29T22:59:10.613556Z",
     "start_time": "2025-03-29T22:59:10.606394Z"
    }
   },
   "outputs": [],
   "source": [
    "X_test.to_csv(\"../data/processed/X_test.csv\", index=False)"
   ]
  },
  {
   "cell_type": "code",
   "execution_count": 11,
   "id": "8f12a0c21a5bb45d",
   "metadata": {
    "ExecuteTime": {
     "end_time": "2025-03-29T22:59:10.639920Z",
     "start_time": "2025-03-29T22:59:10.637069Z"
    }
   },
   "outputs": [],
   "source": [
    "\n",
    "# Todas as colunas são categóricas\n",
    "categorical_features = X.columns.tolist()\n",
    "\n",
    "# Transformador para OneHotEncoding\n",
    "preprocessor = ColumnTransformer(\n",
    "    transformers=[(\"cat\", OneHotEncoder(handle_unknown=\"ignore\"), categorical_features)]\n",
    ")\n",
    "\n",
    "# Pipeline completo\n",
    "pipeline_balanced = Pipeline(\n",
    "    steps=[\n",
    "        (\"preprocessing\", preprocessor),\n",
    "        (\n",
    "            \"classifier\",\n",
    "            RandomForestClassifier(\n",
    "                n_estimators=100, random_state=42, class_weight=\"balanced\"\n",
    "            ),\n",
    "        ),\n",
    "    ]\n",
    ")"
   ]
  },
  {
   "cell_type": "code",
   "execution_count": 12,
   "id": "26498470ace3f28",
   "metadata": {
    "ExecuteTime": {
     "end_time": "2025-03-29T22:59:11.380793Z",
     "start_time": "2025-03-29T22:59:10.642980Z"
    }
   },
   "outputs": [
    {
     "name": "stdout",
     "output_type": "stream",
     "text": [
      "              precision    recall  f1-score   support\n",
      "\n",
      "           0       0.85      0.83      0.84      1844\n",
      "           1       0.50      0.54      0.52       597\n",
      "\n",
      "    accuracy                           0.76      2441\n",
      "   macro avg       0.68      0.68      0.68      2441\n",
      "weighted avg       0.76      0.76      0.76      2441\n",
      "\n"
     ]
    },
    {
     "data": {
      "image/png": "[encoded data removed]",
      "text/plain": [
       "<Figure size 600x500 with 1 Axes>"
      ]
     },
     "metadata": {},
     "output_type": "display_data"
    }
   ],
   "source": [
    "\n",
    "# Treinamento\n",
    "pipeline_balanced.fit(X_train, y_train)\n",
    "\n",
    "# Predição\n",
    "y_pred = pipeline_balanced.predict(X_test)\n",
    "\n",
    "# Avaliação\n",
    "print(classification_report(y_test, y_pred))\n",
    "\n",
    "# Calcular matriz de confusão\n",
    "cm = confusion_matrix(y_test, y_pred)\n",
    "\n",
    "# Plot com Seaborn\n",
    "plt.figure(figsize=(6, 5))\n",
    "sns.heatmap(\n",
    "    cm,\n",
    "    annot=True,\n",
    "    fmt=\"d\",\n",
    "    cmap=\"Blues\",\n",
    "    cbar=False,\n",
    "    xticklabels=[\"Não Contratado\", \"Contratado\"],\n",
    "    yticklabels=[\"Não Contratado\", \"Contratado\"],\n",
    ")\n",
    "\n",
    "plt.title(\"Matriz de Confusão — Modelo Baseline\")\n",
    "plt.xlabel(\"Previsto\")\n",
    "plt.ylabel(\"Real\")\n",
    "plt.tight_layout()\n",
    "plt.show()"
   ]
  },
  {
   "cell_type": "code",
   "execution_count": 13,
   "id": "bd6f8e86f3517e18",
   "metadata": {
    "ExecuteTime": {
     "end_time": "2025-03-29T22:59:11.420762Z",
     "start_time": "2025-03-29T22:59:11.394497Z"
    }
   },
   "outputs": [],
   "source": [
    "from xgboost import XGBClassifier\n",
    "from sklearn.pipeline import Pipeline\n",
    "\n",
    "# Calculando a razão entre classes para o scale_pos_weight\n",
    "neg, pos = y_train.value_counts()\n",
    "scale = neg / pos\n",
    "\n",
    "# Pipeline com XGBoost\n",
    "pipeline_xgb = Pipeline(\n",
    "    steps=[\n",
    "        (\"preprocessing\", preprocessor),\n",
    "        (\n",
    "            \"classifier\",\n",
    "            XGBClassifier(\n",
    "                random_state=42,\n",
    "                use_label_encoder=False,\n",
    "                eval_metric=\"logloss\",\n",
    "                scale_pos_weight=scale,  # compensação de classe\n",
    "            ),\n",
    "        ),\n",
    "    ]\n",
    ")"
   ]
  },
  {
   "cell_type": "code",
   "execution_count": 14,
   "id": "593845d3fd56f0a1",
   "metadata": {
    "ExecuteTime": {
     "end_time": "2025-03-29T22:59:11.693536Z",
     "start_time": "2025-03-29T22:59:11.437243Z"
    }
   },
   "outputs": [
    {
     "name": "stderr",
     "output_type": "stream",
     "text": [
      "/Users/joaopedroc.dias/Desktop/ml_recruitment_model/venv/lib/python3.9/site-packages/xgboost/core.py:158: UserWarning: [19:59:11] WARNING: /Users/runner/work/xgboost/xgboost/src/learner.cc:740: \n",
      "Parameters: { \"use_label_encoder\" } are not used.\n",
      "\n",
      "  warnings.warn(smsg, UserWarning)\n"
     ]
    },
    {
     "name": "stdout",
     "output_type": "stream",
     "text": [
      "              precision    recall  f1-score   support\n",
      "\n",
      "           0       0.85      0.82      0.83      1844\n",
      "           1       0.50      0.54      0.52       597\n",
      "\n",
      "    accuracy                           0.75      2441\n",
      "   macro avg       0.67      0.68      0.68      2441\n",
      "weighted avg       0.76      0.75      0.76      2441\n",
      "\n"
     ]
    },
    {
     "data": {
      "image/png": "[encoded data removed]",
      "text/plain": [
       "<Figure size 700x600 with 1 Axes>"
      ]
     },
     "metadata": {},
     "output_type": "display_data"
    }
   ],
   "source": [
    "# Treinamento\n",
    "pipeline_xgb.fit(X_train, y_train)\n",
    "\n",
    "# Predição\n",
    "y_pred_xgb = pipeline_xgb.predict(X_test)\n",
    "\n",
    "# Avaliação\n",
    "print(classification_report(y_test, y_pred_xgb))\n",
    "\n",
    "# Matriz de confusão\n",
    "cm = confusion_matrix(y_test, y_pred_xgb)\n",
    "cm_percent = cm / cm.sum(axis=1, keepdims=True) * 100\n",
    "labels = np.array(\n",
    "    [\n",
    "        [f\"{v}\\n({p:.1f}%)\" for v, p in zip(row_val, row_pct)]\n",
    "        for row_val, row_pct in zip(cm, cm_percent)\n",
    "    ]\n",
    ")\n",
    "\n",
    "plt.figure(figsize=(7, 6))\n",
    "sns.heatmap(\n",
    "    cm,\n",
    "    annot=labels,\n",
    "    fmt=\"\",\n",
    "    cmap=\"Oranges\",\n",
    "    cbar=False,\n",
    "    xticklabels=[\"Não Contratado\", \"Contratado\"],\n",
    "    yticklabels=[\"Não Contratado\", \"Contratado\"],\n",
    ")\n",
    "\n",
    "plt.title(\"Matriz de Confusão — XGBoost (com scale_pos_weight)\")\n",
    "plt.xlabel(\"Previsto\")\n",
    "plt.ylabel(\"Real\")\n",
    "plt.tight_layout()\n",
    "plt.show()"
   ]
  },
  {
   "cell_type": "code",
   "execution_count": 15,
   "id": "ad254dd137bf0818",
   "metadata": {
    "ExecuteTime": {
     "end_time": "2025-03-29T22:59:11.835976Z",
     "start_time": "2025-03-29T22:59:11.711699Z"
    }
   },
   "outputs": [
    {
     "data": {
      "image/png": "[encoded data removed]",
      "text/plain": [
       "<Figure size 640x480 with 1 Axes>"
      ]
     },
     "metadata": {},
     "output_type": "display_data"
    }
   ],
   "source": [
    "import matplotlib.pyplot as plt\n",
    "import xgboost as xgb\n",
    "\n",
    "# Acessar o classificador do pipeline\n",
    "xgb_model = pipeline_xgb.named_steps[\"classifier\"]\n",
    "\n",
    "# Plotar importância\n",
    "xgb.plot_importance(xgb_model, max_num_features=15, importance_type=\"gain\")\n",
    "plt.title(\"Importância das Features — XGBoost\")\n",
    "plt.show()"
   ]
  },
  {
   "metadata": {},
   "cell_type": "code",
   "outputs": [],
   "execution_count": null,
   "source": [
    "import pandas as pd\n",
    "\n",
    "# Obter nomes das features após transformação\n",
    "encoded_feature_names = pipeline_xgb.named_steps[\n",
    "    \"preprocessing\"\n",
    "].get_feature_names_out()\n",
    "\n",
    "# Combinar com a importância do modelo\n",
    "importance = xgb_model.feature_importances_\n",
    "\n",
    "# Criar DataFrame com nomes legíveis\n",
    "feat_imp_df = pd.DataFrame(\n",
    "    {\"feature\": encoded_feature_names, \"importance\": importance}\n",
    ").sort_values(by=\"importance\", ascending=False)\n",
    "\n",
    "# Visualizar top 15\n",
    "feat_imp_df.head(15)"
   ],
   "id": "e8bf6ae143974e09"
  },
  {
   "metadata": {},
   "cell_type": "code",
   "outputs": [],
   "execution_count": null,
   "source": [
    "import joblib\n",
    "\n",
    "# Salvar o pipeline completo\n",
    "joblib.dump(pipeline_xgb, \"../models/modelo_priorizacao_xgb.pkl\")"
   ],
   "id": "b39423afb88a6d5f"
  },
  {
   "cell_type": "code",
   "execution_count": 18,
   "id": "7a037f926d79b16",
   "metadata": {
    "ExecuteTime": {
     "end_time": "2025-03-29T22:59:11.928047Z",
     "start_time": "2025-03-29T22:59:11.925456Z"
    }
   },
   "outputs": [],
   "source": [
    "def priorizar_candidatos(df_input, modelo, top_n=10):\n",
    "    \"\"\"\n",
    "    Recebe um DataFrame de candidatos e retorna os top_n com maior probabilidade de contratação.\n",
    "    \"\"\"\n",
    "    df_copy = df_input.copy()\n",
    "    df_copy = df_copy.drop(columns=[\"target\"], errors=\"ignore\")\n",
    "\n",
    "    # Previsão\n",
    "    probs = modelo.predict_proba(df_copy)[:, 1]\n",
    "    df_copy[\"prob_contratacao\"] = probs\n",
    "\n",
    "    # Ordenação\n",
    "    df_ranked = df_copy.sort_values(by=\"prob_contratacao\", ascending=False)\n",
    "\n",
    "    return df_ranked.head(top_n)"
   ]
  },
  {
   "cell_type": "code",
   "execution_count": 19,
   "id": "71145f5620a53dc8",
   "metadata": {
    "ExecuteTime": {
     "end_time": "2025-03-29T22:59:11.953187Z",
     "start_time": "2025-03-29T22:59:11.940731Z"
    }
   },
   "outputs": [
    {
     "data": {
      "text/html": [
       "<div>\n",
       "<style scoped>\n",
       "    .dataframe tbody tr th:only-of-type {\n",
       "        vertical-align: middle;\n",
       "    }\n",
       "\n",
       "    .dataframe tbody tr th {\n",
       "        vertical-align: top;\n",
       "    }\n",
       "\n",
       "    .dataframe thead th {\n",
       "        text-align: right;\n",
       "    }\n",
       "</style>\n",
       "<table border=\"1\" class=\"dataframe\">\n",
       "  <thead>\n",
       "    <tr style=\"text-align: right;\">\n",
       "      <th></th>\n",
       "      <th>nivel_academico</th>\n",
       "      <th>ingles</th>\n",
       "      <th>espanhol</th>\n",
       "      <th>area_atuacao</th>\n",
       "      <th>nivel_profissional</th>\n",
       "      <th>sap</th>\n",
       "      <th>cliente</th>\n",
       "      <th>prob_contratacao</th>\n",
       "    </tr>\n",
       "  </thead>\n",
       "  <tbody>\n",
       "    <tr>\n",
       "      <th>10493</th>\n",
       "      <td>Ensino Superior Cursando</td>\n",
       "      <td>Intermediário</td>\n",
       "      <td>Básico</td>\n",
       "      <td>Ti - Sistemas E Ferramentas</td>\n",
       "      <td>Sênior</td>\n",
       "      <td>Não</td>\n",
       "      <td>Gonzalez And Sons</td>\n",
       "      <td>0.997305</td>\n",
       "    </tr>\n",
       "    <tr>\n",
       "      <th>10048</th>\n",
       "      <td>Ensino Médio Completo</td>\n",
       "      <td>Avançado</td>\n",
       "      <td>Básico</td>\n",
       "      <td>Ti - Sap</td>\n",
       "      <td>Sênior</td>\n",
       "      <td>Não</td>\n",
       "      <td>Jenkins-Walker</td>\n",
       "      <td>0.987796</td>\n",
       "    </tr>\n",
       "    <tr>\n",
       "      <th>7230</th>\n",
       "      <td>Ensino Superior Completo</td>\n",
       "      <td>Básico</td>\n",
       "      <td>Básico</td>\n",
       "      <td>Ti - Sap</td>\n",
       "      <td>Pleno</td>\n",
       "      <td>Não</td>\n",
       "      <td>Miller-Curry</td>\n",
       "      <td>0.980813</td>\n",
       "    </tr>\n",
       "    <tr>\n",
       "      <th>5799</th>\n",
       "      <td>Ensino Superior Completo</td>\n",
       "      <td>Básico</td>\n",
       "      <td>Intermediário</td>\n",
       "      <td>Ti - Sap</td>\n",
       "      <td>Pleno</td>\n",
       "      <td>Não</td>\n",
       "      <td>Miller-Curry</td>\n",
       "      <td>0.979685</td>\n",
       "    </tr>\n",
       "    <tr>\n",
       "      <th>10602</th>\n",
       "      <td>Ensino Superior Completo</td>\n",
       "      <td>Básico</td>\n",
       "      <td>Nenhum</td>\n",
       "      <td>Ti - Projetos</td>\n",
       "      <td>Sênior</td>\n",
       "      <td>Não</td>\n",
       "      <td>Gonzalez And Sons</td>\n",
       "      <td>0.969872</td>\n",
       "    </tr>\n",
       "  </tbody>\n",
       "</table>\n",
       "</div>"
      ],
      "text/plain": [
       "                nivel_academico         ingles       espanhol  \\\n",
       "10493  Ensino Superior Cursando  Intermediário         Básico   \n",
       "10048     Ensino Médio Completo       Avançado         Básico   \n",
       "7230   Ensino Superior Completo         Básico         Básico   \n",
       "5799   Ensino Superior Completo         Básico  Intermediário   \n",
       "10602  Ensino Superior Completo         Básico         Nenhum   \n",
       "\n",
       "                      area_atuacao nivel_profissional  sap            cliente  \\\n",
       "10493  Ti - Sistemas E Ferramentas             Sênior  Não  Gonzalez And Sons   \n",
       "10048                     Ti - Sap             Sênior  Não     Jenkins-Walker   \n",
       "7230                      Ti - Sap              Pleno  Não       Miller-Curry   \n",
       "5799                      Ti - Sap              Pleno  Não       Miller-Curry   \n",
       "10602                Ti - Projetos             Sênior  Não  Gonzalez And Sons   \n",
       "\n",
       "       prob_contratacao  \n",
       "10493          0.997305  \n",
       "10048          0.987796  \n",
       "7230           0.980813  \n",
       "5799           0.979685  \n",
       "10602          0.969872  "
      ]
     },
     "execution_count": 19,
     "metadata": {},
     "output_type": "execute_result"
    }
   ],
   "source": [
    "# Exemplo de uso com X_test\n",
    "top_priorizados = priorizar_candidatos(X_test.copy(), pipeline_xgb, top_n=5)\n",
    "top_priorizados.head()"
   ]
  }
 ],
 "metadata": {
  "kernelspec": {
   "display_name": "Python 3",
   "language": "python",
   "name": "python3"
  },
  "language_info": {
   "codemirror_mode": {
    "name": "ipython",
    "version": 2
   },
   "file_extension": ".py",
   "mimetype": "text/x-python",
   "name": "python",
   "nbconvert_exporter": "python",
   "pygments_lexer": "ipython2",
   "version": "2.7.6"
  }
 },
 "nbformat": 4,
 "nbformat_minor": 5
}
