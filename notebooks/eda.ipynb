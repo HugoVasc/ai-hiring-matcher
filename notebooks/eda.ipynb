{
 "cells": [
  {
   "metadata": {},
   "cell_type": "markdown",
   "source": "## Importing libraries",
   "id": "ed261a210bfc5327"
  },
  {
   "metadata": {
    "ExecuteTime": {
     "end_time": "2025-03-29T20:29:24.089659Z",
     "start_time": "2025-03-29T20:29:24.084882Z"
    }
   },
   "cell_type": "code",
   "source": [
    "import pandas as pd\n",
    "import matplotlib.pyplot as plt\n",
    "import seaborn as sns\n",
    "\n",
    "pd.set_option('display.max_columns', None)\n",
    "sns.set_theme(style=\"whitegrid\")"
   ],
   "id": "670939d98b60e2f2",
   "outputs": [],
   "execution_count": 8
  },
  {
   "metadata": {},
   "cell_type": "markdown",
   "source": "## Load and inspect the data",
   "id": "c737b15b7d44414"
  },
  {
   "metadata": {
    "ExecuteTime": {
     "end_time": "2025-03-29T20:29:24.159018Z",
     "start_time": "2025-03-29T20:29:24.097745Z"
    }
   },
   "cell_type": "code",
   "source": [
    "df = pd.read_csv(\"../data/processed/merged_data.csv\")\n",
    "df.shape, df.columns\n"
   ],
   "id": "1780daab4b950c49",
   "outputs": [
    {
     "data": {
      "text/plain": [
       "((53759, 16),\n",
       " Index(['vaga_id', 'candidato_id', 'situacao', 'comentario', 'nome', 'cliente',\n",
       "        'sap', 'nivel_profissional', 'idioma', 'competencias_tecnicas',\n",
       "        'nivel_academico', 'ingles', 'espanhol', 'area_atuacao',\n",
       "        'conhecimentos', 'cv'],\n",
       "       dtype='object'))"
      ]
     },
     "execution_count": 9,
     "metadata": {},
     "output_type": "execute_result"
    }
   ],
   "execution_count": 9
  },
  {
   "metadata": {
    "ExecuteTime": {
     "end_time": "2025-03-29T20:29:24.172799Z",
     "start_time": "2025-03-29T20:29:24.166339Z"
    }
   },
   "cell_type": "code",
   "source": "df.head()",
   "id": "a322f8e7807b304c",
   "outputs": [
    {
     "data": {
      "text/plain": [
       "   vaga_id  candidato_id                     situacao  \\\n",
       "0     4530         25632  Encaminhado ao Requisitante   \n",
       "1     4530         25529  Encaminhado ao Requisitante   \n",
       "2     4531         25364     Contratado pela Decision   \n",
       "3     4531         25360  Encaminhado ao Requisitante   \n",
       "4     4533         26338     Contratado pela Decision   \n",
       "\n",
       "                                          comentario  \\\n",
       "0               Encaminhado para  - PJ R$ 72,00/hora   \n",
       "1  encaminhado para  - R$ 6.000,00 – CLT Full , n...   \n",
       "2                         Data de Inicio: 12/04/2021   \n",
       "3                                                NaN   \n",
       "4                                                NaN   \n",
       "\n",
       "                       nome  cliente  sap  nivel_profissional  idioma  \\\n",
       "0               José Vieira      NaN  NaN                 NaN     NaN   \n",
       "1  Srta. Isabela Cavalcante      NaN  NaN                 NaN     NaN   \n",
       "2     Sra. Yasmin Fernandes      NaN  NaN                 NaN     NaN   \n",
       "3            Alexia Barbosa      NaN  NaN                 NaN     NaN   \n",
       "4            Arthur Almeida      NaN  NaN                 NaN     NaN   \n",
       "\n",
       "   competencias_tecnicas  nivel_academico  ingles  espanhol  area_atuacao  \\\n",
       "0                    NaN              NaN     NaN       NaN           NaN   \n",
       "1                    NaN              NaN     NaN       NaN           NaN   \n",
       "2                    NaN              NaN     NaN       NaN           NaN   \n",
       "3                    NaN              NaN     NaN       NaN           NaN   \n",
       "4                    NaN              NaN     NaN       NaN           NaN   \n",
       "\n",
       "   conhecimentos  cv  \n",
       "0            NaN NaN  \n",
       "1            NaN NaN  \n",
       "2            NaN NaN  \n",
       "3            NaN NaN  \n",
       "4            NaN NaN  "
      ],
      "text/html": [
       "<div>\n",
       "<style scoped>\n",
       "    .dataframe tbody tr th:only-of-type {\n",
       "        vertical-align: middle;\n",
       "    }\n",
       "\n",
       "    .dataframe tbody tr th {\n",
       "        vertical-align: top;\n",
       "    }\n",
       "\n",
       "    .dataframe thead th {\n",
       "        text-align: right;\n",
       "    }\n",
       "</style>\n",
       "<table border=\"1\" class=\"dataframe\">\n",
       "  <thead>\n",
       "    <tr style=\"text-align: right;\">\n",
       "      <th></th>\n",
       "      <th>vaga_id</th>\n",
       "      <th>candidato_id</th>\n",
       "      <th>situacao</th>\n",
       "      <th>comentario</th>\n",
       "      <th>nome</th>\n",
       "      <th>cliente</th>\n",
       "      <th>sap</th>\n",
       "      <th>nivel_profissional</th>\n",
       "      <th>idioma</th>\n",
       "      <th>competencias_tecnicas</th>\n",
       "      <th>nivel_academico</th>\n",
       "      <th>ingles</th>\n",
       "      <th>espanhol</th>\n",
       "      <th>area_atuacao</th>\n",
       "      <th>conhecimentos</th>\n",
       "      <th>cv</th>\n",
       "    </tr>\n",
       "  </thead>\n",
       "  <tbody>\n",
       "    <tr>\n",
       "      <th>0</th>\n",
       "      <td>4530</td>\n",
       "      <td>25632</td>\n",
       "      <td>Encaminhado ao Requisitante</td>\n",
       "      <td>Encaminhado para  - PJ R$ 72,00/hora</td>\n",
       "      <td>José Vieira</td>\n",
       "      <td>NaN</td>\n",
       "      <td>NaN</td>\n",
       "      <td>NaN</td>\n",
       "      <td>NaN</td>\n",
       "      <td>NaN</td>\n",
       "      <td>NaN</td>\n",
       "      <td>NaN</td>\n",
       "      <td>NaN</td>\n",
       "      <td>NaN</td>\n",
       "      <td>NaN</td>\n",
       "      <td>NaN</td>\n",
       "    </tr>\n",
       "    <tr>\n",
       "      <th>1</th>\n",
       "      <td>4530</td>\n",
       "      <td>25529</td>\n",
       "      <td>Encaminhado ao Requisitante</td>\n",
       "      <td>encaminhado para  - R$ 6.000,00 – CLT Full , n...</td>\n",
       "      <td>Srta. Isabela Cavalcante</td>\n",
       "      <td>NaN</td>\n",
       "      <td>NaN</td>\n",
       "      <td>NaN</td>\n",
       "      <td>NaN</td>\n",
       "      <td>NaN</td>\n",
       "      <td>NaN</td>\n",
       "      <td>NaN</td>\n",
       "      <td>NaN</td>\n",
       "      <td>NaN</td>\n",
       "      <td>NaN</td>\n",
       "      <td>NaN</td>\n",
       "    </tr>\n",
       "    <tr>\n",
       "      <th>2</th>\n",
       "      <td>4531</td>\n",
       "      <td>25364</td>\n",
       "      <td>Contratado pela Decision</td>\n",
       "      <td>Data de Inicio: 12/04/2021</td>\n",
       "      <td>Sra. Yasmin Fernandes</td>\n",
       "      <td>NaN</td>\n",
       "      <td>NaN</td>\n",
       "      <td>NaN</td>\n",
       "      <td>NaN</td>\n",
       "      <td>NaN</td>\n",
       "      <td>NaN</td>\n",
       "      <td>NaN</td>\n",
       "      <td>NaN</td>\n",
       "      <td>NaN</td>\n",
       "      <td>NaN</td>\n",
       "      <td>NaN</td>\n",
       "    </tr>\n",
       "    <tr>\n",
       "      <th>3</th>\n",
       "      <td>4531</td>\n",
       "      <td>25360</td>\n",
       "      <td>Encaminhado ao Requisitante</td>\n",
       "      <td>NaN</td>\n",
       "      <td>Alexia Barbosa</td>\n",
       "      <td>NaN</td>\n",
       "      <td>NaN</td>\n",
       "      <td>NaN</td>\n",
       "      <td>NaN</td>\n",
       "      <td>NaN</td>\n",
       "      <td>NaN</td>\n",
       "      <td>NaN</td>\n",
       "      <td>NaN</td>\n",
       "      <td>NaN</td>\n",
       "      <td>NaN</td>\n",
       "      <td>NaN</td>\n",
       "    </tr>\n",
       "    <tr>\n",
       "      <th>4</th>\n",
       "      <td>4533</td>\n",
       "      <td>26338</td>\n",
       "      <td>Contratado pela Decision</td>\n",
       "      <td>NaN</td>\n",
       "      <td>Arthur Almeida</td>\n",
       "      <td>NaN</td>\n",
       "      <td>NaN</td>\n",
       "      <td>NaN</td>\n",
       "      <td>NaN</td>\n",
       "      <td>NaN</td>\n",
       "      <td>NaN</td>\n",
       "      <td>NaN</td>\n",
       "      <td>NaN</td>\n",
       "      <td>NaN</td>\n",
       "      <td>NaN</td>\n",
       "      <td>NaN</td>\n",
       "    </tr>\n",
       "  </tbody>\n",
       "</table>\n",
       "</div>"
      ]
     },
     "execution_count": 10,
     "metadata": {},
     "output_type": "execute_result"
    }
   ],
   "execution_count": 10
  },
  {
   "metadata": {},
   "cell_type": "markdown",
   "source": "## Exploratory Data Analysis (EDA)",
   "id": "ab44862fc0208f02"
  },
  {
   "metadata": {
    "ExecuteTime": {
     "end_time": "2025-03-29T20:29:24.208087Z",
     "start_time": "2025-03-29T20:29:24.203420Z"
    }
   },
   "cell_type": "code",
   "source": [
    "# Verificar os valores únicos e frequências da coluna \"situacao\"\n",
    "df['situacao'].value_counts()\n"
   ],
   "id": "a7194581552c5227",
   "outputs": [
    {
     "data": {
      "text/plain": [
       "situacao\n",
       "Prospect                          20021\n",
       "Encaminhado ao Requisitante       16122\n",
       "Inscrito                           3980\n",
       "Não Aprovado pelo Cliente          3492\n",
       "Contratado pela Decision           2758\n",
       "Desistiu                           2349\n",
       "Não Aprovado pelo RH               1765\n",
       "Não Aprovado pelo Requisitante      765\n",
       "Entrevista Técnica                  579\n",
       "Sem interesse nesta vaga            576\n",
       "Entrevista com Cliente              469\n",
       "Em avaliação pelo RH                375\n",
       "Contratado como Hunting             226\n",
       "Aprovado                            209\n",
       "Desistiu da Contratação              59\n",
       "Documentação PJ                       4\n",
       "Documentação CLT                      3\n",
       "Recusado                              2\n",
       "Documentação Cooperado                2\n",
       "Encaminhar Proposta                   2\n",
       "Proposta Aceita                       1\n",
       "Name: count, dtype: int64"
      ]
     },
     "execution_count": 11,
     "metadata": {},
     "output_type": "execute_result"
    }
   ],
   "execution_count": 11
  },
  {
   "metadata": {
    "ExecuteTime": {
     "end_time": "2025-03-29T20:29:24.270259Z",
     "start_time": "2025-03-29T20:29:24.253790Z"
    }
   },
   "cell_type": "code",
   "source": [
    "# Definindo os valores\n",
    "valores_sucesso = [\n",
    "    \"Contratado pela Decision\",\n",
    "    \"Contratado como Hunting\",\n",
    "    \"Proposta Aceita\"\n",
    "]\n",
    "\n",
    "valores_excluir = [\n",
    "    \"Prospect\", \"Inscrito\", \"Encaminhado ao Requisitante\",\n",
    "    \"Entrevista Técnica\", \"Entrevista com Cliente\",\n",
    "    \"Em avaliação pelo RH\", \"Encaminhar Proposta\",\n",
    "    \"Documentação PJ\", \"Documentação CLT\", \"Documentação Cooperado\"\n",
    "]\n",
    "\n",
    "# Filtrar o dataset\n",
    "df = df[~df[\"situacao\"].isin(valores_excluir)]\n",
    "\n",
    "# Criar a variável target\n",
    "df[\"target\"] = df[\"situacao\"].apply(lambda x: 1 if x in valores_sucesso else 0)\n",
    "\n",
    "# Verificar a distribuição final\n",
    "df[\"target\"].value_counts(normalize=True)\n"
   ],
   "id": "b39335e73210cc57",
   "outputs": [
    {
     "data": {
      "text/plain": [
       "target\n",
       "0    0.755368\n",
       "1    0.244632\n",
       "Name: proportion, dtype: float64"
      ]
     },
     "execution_count": 12,
     "metadata": {},
     "output_type": "execute_result"
    }
   ],
   "execution_count": 12
  },
  {
   "metadata": {
    "ExecuteTime": {
     "end_time": "2025-03-29T20:29:24.333539Z",
     "start_time": "2025-03-29T20:29:24.330938Z"
    }
   },
   "cell_type": "code",
   "source": "df.shape",
   "id": "c6505e4407b07c53",
   "outputs": [
    {
     "data": {
      "text/plain": [
       "(12202, 17)"
      ]
     },
     "execution_count": 13,
     "metadata": {},
     "output_type": "execute_result"
    }
   ],
   "execution_count": 13
  },
  {
   "metadata": {
    "ExecuteTime": {
     "end_time": "2025-03-29T20:30:12.146685Z",
     "start_time": "2025-03-29T20:30:12.140070Z"
    }
   },
   "cell_type": "code",
   "source": "df['nivel_academico'].value_counts(dropna=False)\n",
   "id": "65bde9bcd29ef896",
   "outputs": [
    {
     "data": {
      "text/plain": [
       "nivel_academico\n",
       "NaN    12202\n",
       "Name: count, dtype: int64"
      ]
     },
     "execution_count": 14,
     "metadata": {},
     "output_type": "execute_result"
    }
   ],
   "execution_count": 14
  }
 ],
 "metadata": {
  "kernelspec": {
   "name": "python3",
   "language": "python",
   "display_name": "Python 3 (ipykernel)"
  }
 },
 "nbformat": 5,
 "nbformat_minor": 9
}
